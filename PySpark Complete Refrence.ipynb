{
 "cells": [
  {
   "cell_type": "code",
   "execution_count": 96,
   "metadata": {},
   "outputs": [],
   "source": [
    "#spark home setup in CMD before running the below code. \n",
    "\n",
    "#setx SPARK_HOME C:\\Users\\VV232LY\\spark3   \n",
    "\n",
    "import findspark\n",
    "findspark.init()"
   ]
  },
  {
   "cell_type": "code",
   "execution_count": 97,
   "metadata": {},
   "outputs": [],
   "source": [
    "import pyspark\n",
    "from pyspark.sql import SparkSession\n",
    "from pyspark.sql.types import StructType,StructField,IntegerType,FloatType,StringType\n",
    "#from pyspark.sql.types import *\n",
    "spark = SparkSession.builder.getOrCreate()"
   ]
  },
  {
   "cell_type": "code",
   "execution_count": 98,
   "metadata": {},
   "outputs": [],
   "source": [
    "import json\n",
    "retail_schemas = json.load(open('C:/Users/VV232LY/Learning/pyspark/data-master/data-master/retail_db_schema.json'))\n"
   ]
  },
  {
   "cell_type": "code",
   "execution_count": 4,
   "metadata": {},
   "outputs": [
    {
     "name": "stdout",
     "output_type": "stream",
     "text": [
      "['order_id', 'order_date', 'order_customer_id', 'order_status']\n"
     ]
    }
   ],
   "source": [
    "columns = []\n",
    "for i in retail_schemas['orders']:\n",
    "    #print(i['column_name'])\n",
    "    columns.append(i['column_name'])\n",
    "    \n",
    "print(columns)"
   ]
  },
  {
   "cell_type": "code",
   "execution_count": null,
   "metadata": {},
   "outputs": [],
   "source": [
    "#retail_schemas['orders']\n",
    "columns = list(map(lambda col: col['column_name'], retail_schemas['orders']))\n",
    "print(columns)"
   ]
  },
  {
   "cell_type": "code",
   "execution_count": 5,
   "metadata": {},
   "outputs": [],
   "source": [
    "import pandas as pd\n",
    "input = pd.read_csv('C:/Users/VV232LY/Learning/pyspark/data-master/data-master/retail_db/orders/part-00000', names=columns)"
   ]
  },
  {
   "cell_type": "code",
   "execution_count": 7,
   "metadata": {},
   "outputs": [],
   "source": [
    "orders = spark.createDataFrame(input)\n"
   ]
  },
  {
   "cell_type": "code",
   "execution_count": 15,
   "metadata": {},
   "outputs": [
    {
     "name": "stdout",
     "output_type": "stream",
     "text": [
      "+--------+--------------------+-----------------+---------------+\n",
      "|order_id|          order_date|order_customer_id|   order_status|\n",
      "+--------+--------------------+-----------------+---------------+\n",
      "|       1|2013-07-25 00:00:...|            11599|         CLOSED|\n",
      "|       2|2013-07-25 00:00:...|              256|PENDING_PAYMENT|\n",
      "|       3|2013-07-25 00:00:...|            12111|       COMPLETE|\n",
      "|       4|2013-07-25 00:00:...|             8827|         CLOSED|\n",
      "|       5|2013-07-25 00:00:...|            11318|       COMPLETE|\n",
      "|       6|2013-07-25 00:00:...|             7130|       COMPLETE|\n",
      "|       7|2013-07-25 00:00:...|             4530|       COMPLETE|\n",
      "|       8|2013-07-25 00:00:...|             2911|     PROCESSING|\n",
      "|       9|2013-07-25 00:00:...|             5657|PENDING_PAYMENT|\n",
      "|      10|2013-07-25 00:00:...|             5648|PENDING_PAYMENT|\n",
      "|      11|2013-07-25 00:00:...|              918| PAYMENT_REVIEW|\n",
      "|      12|2013-07-25 00:00:...|             1837|         CLOSED|\n",
      "|      13|2013-07-25 00:00:...|             9149|PENDING_PAYMENT|\n",
      "|      14|2013-07-25 00:00:...|             9842|     PROCESSING|\n",
      "|      15|2013-07-25 00:00:...|             2568|       COMPLETE|\n",
      "|      16|2013-07-25 00:00:...|             7276|PENDING_PAYMENT|\n",
      "|      17|2013-07-25 00:00:...|             2667|       COMPLETE|\n",
      "|      18|2013-07-25 00:00:...|             1205|         CLOSED|\n",
      "|      19|2013-07-25 00:00:...|             9488|PENDING_PAYMENT|\n",
      "|      20|2013-07-25 00:00:...|             9198|     PROCESSING|\n",
      "+--------+--------------------+-----------------+---------------+\n",
      "only showing top 20 rows\n",
      "\n"
     ]
    }
   ],
   "source": [
    "import re\n",
    "df=orders.toDF(*[re.sub('[^A-Za-z0-9_]','',col) for col in orders.columns])\n",
    "\n",
    "df.show()"
   ]
  },
  {
   "cell_type": "code",
   "execution_count": null,
   "metadata": {},
   "outputs": [],
   "source": [
    "#Get Daily Product Revenue \n",
    "1. One to Many relationship b/w orders and order_items"
   ]
  },
  {
   "cell_type": "code",
   "execution_count": 94,
   "metadata": {},
   "outputs": [
    {
     "name": "stdout",
     "output_type": "stream",
     "text": [
      " order_item_id int, order_item_order_id int, order_item_product_id int, order_item_quantity int, order_item_subtotal float, order_item_product_price float\n"
     ]
    }
   ],
   "source": [
    "columns_order_items = \"\"\n",
    "schema = \"\"\n",
    "for i in retail_schemas['order_items']:\n",
    "    schema = schema +\" \"+ i['column_name'] +\" \"+ i['data_type'] + \",\"\n",
    "    \n",
    "columns_order_items = schema[:-1]\n",
    "print(columns_order_items)"
   ]
  },
  {
   "cell_type": "code",
   "execution_count": 91,
   "metadata": {},
   "outputs": [],
   "source": [
    "order_item_schema = StructType(\n",
    "                    [StructField(\"order_item_id\", IntegerType(), True) ,\n",
    "                     StructField(\"order_item_order_id\", IntegerType(), True) ,\n",
    "                     StructField(\"order_item_product_id\", IntegerType(), True) ,\n",
    "                     StructField(\"order_item_quantity\", IntegerType(), True) ,\n",
    "                     StructField(\"order_item_subtotal\", FloatType(), True) ,\n",
    "                     StructField(\"order_item_product_price\", FloatType(), True) \n",
    "                    ]\n",
    "                    )\n",
    "\n",
    "#order_item_schema ='order_item_id int, order_item_order_id int,order_item_product_id int, order_item_quantity int, order_item_subtotal float,order_item_product_price float'"
   ]
  },
  {
   "cell_type": "code",
   "execution_count": 92,
   "metadata": {},
   "outputs": [],
   "source": [
    "inputdata= spark.read \\\n",
    "            .format('csv') \\\n",
    "            .option('sep',',') \\\n",
    "            .option('header','false') \\\n",
    "            .option('Path','C:/Users/VV232LY/Learning/pyspark/data-master/data-master/retail_db/order_items/part-00000.csv') \\\n",
    "            .schema(order_item_schema) \\\n",
    "            .load()\n"
   ]
  },
  {
   "cell_type": "code",
   "execution_count": 107,
   "metadata": {},
   "outputs": [],
   "source": [
    "orders_json= spark.read \\\n",
    "            .format('json') \\\n",
    "            .option('sep',',') \\\n",
    "            .option('header','false') \\\n",
    "            .option('Path','C:/Users/VV232LY/Learning/pyspark/data-master/data-master/retail_db_json/orders/part-r-00000.json') \\\n",
    "            .load()\n"
   ]
  },
  {
   "cell_type": "code",
   "execution_count": 108,
   "metadata": {},
   "outputs": [
    {
     "name": "stdout",
     "output_type": "stream",
     "text": [
      "+-----------------+--------------------+--------+---------------+\n",
      "|order_customer_id|          order_date|order_id|   order_status|\n",
      "+-----------------+--------------------+--------+---------------+\n",
      "|            11599|2013-07-25 00:00:...|       1|         CLOSED|\n",
      "|              256|2013-07-25 00:00:...|       2|PENDING_PAYMENT|\n",
      "|            12111|2013-07-25 00:00:...|       3|       COMPLETE|\n",
      "|             8827|2013-07-25 00:00:...|       4|         CLOSED|\n",
      "|            11318|2013-07-25 00:00:...|       5|       COMPLETE|\n",
      "|             7130|2013-07-25 00:00:...|       6|       COMPLETE|\n",
      "|             4530|2013-07-25 00:00:...|       7|       COMPLETE|\n",
      "|             2911|2013-07-25 00:00:...|       8|     PROCESSING|\n",
      "|             5657|2013-07-25 00:00:...|       9|PENDING_PAYMENT|\n",
      "|             5648|2013-07-25 00:00:...|      10|PENDING_PAYMENT|\n",
      "|              918|2013-07-25 00:00:...|      11| PAYMENT_REVIEW|\n",
      "|             1837|2013-07-25 00:00:...|      12|         CLOSED|\n",
      "|             9149|2013-07-25 00:00:...|      13|PENDING_PAYMENT|\n",
      "|             9842|2013-07-25 00:00:...|      14|     PROCESSING|\n",
      "|             2568|2013-07-25 00:00:...|      15|       COMPLETE|\n",
      "|             7276|2013-07-25 00:00:...|      16|PENDING_PAYMENT|\n",
      "|             2667|2013-07-25 00:00:...|      17|       COMPLETE|\n",
      "|             1205|2013-07-25 00:00:...|      18|         CLOSED|\n",
      "|             9488|2013-07-25 00:00:...|      19|PENDING_PAYMENT|\n",
      "|             9198|2013-07-25 00:00:...|      20|     PROCESSING|\n",
      "+-----------------+--------------------+--------+---------------+\n",
      "only showing top 20 rows\n",
      "\n"
     ]
    }
   ],
   "source": [
    "orders_json.show()"
   ]
  },
  {
   "cell_type": "code",
   "execution_count": null,
   "metadata": {},
   "outputs": [],
   "source": [
    "###Spark Read from mysql:\n",
    "\n",
    "df=spark.read.format(\"jdbc\") \\\n",
    "             .option(\"driver\",\"com.mysql.cj.jdbc.Driver\") \\\n",
    "             .option(\"user\",username) \\\n",
    "             .option(\"password\",password) \\\n",
    "             .option(\"url\",\"jdbc:mysql://Mysql.dbmstutorials.com:3306\") \\\n",
    "             .option(\"dbtable\",\"tutorial_db.department\") \\\n",
    "             .load()\n",
    "\n",
    "##Read with Custom query: \n",
    "\n",
    "df=spark.read.format(\"jdbc\").options(driver=\"com.mysql.cj.jdbc.Driver\",\n",
    "                                     user=\"tutorial_user\",\n",
    "                                     password=\"user_password\",\n",
    "                                     url=\"jdbc:mysql://Mysql.dbmstutorials.com:3306?serverTimezone=UTC&useSSL=false\",\n",
    "                                     query=\"SELECT * FROM tutorial_db.department WHERE dept_no IN (100,200)\"\n",
    "                                     ).load()"
   ]
  },
  {
   "cell_type": "code",
   "execution_count": 113,
   "metadata": {},
   "outputs": [],
   "source": [
    "product_schema = StructType(\n",
    "                    [StructField(\"product_id\", IntegerType(), True) ,\n",
    "                     StructField(\"product_category_id\", IntegerType(), True) ,\n",
    "                     StructField(\"product_name\", StringType(), True) ,\n",
    "                     StructField(\"product_description\", StringType(), True) ,\n",
    "                     StructField(\"product_price\", FloatType(), True) ,\n",
    "                     StructField(\"product_image\", StringType(), True) \n",
    "                    ]\n",
    "                    )\n",
    "\n",
    "\n",
    "#order_item_schema ='order_item_id int, order_item_order_id int,order_item_product_id int, order_item_quantity int, order_item_subtotal float,order_item_product_price float'"
   ]
  },
  {
   "cell_type": "code",
   "execution_count": 115,
   "metadata": {},
   "outputs": [
    {
     "name": "stdout",
     "output_type": "stream",
     "text": [
      " product_id int, product_category_id int, product_name string, product_description string, product_price float, product_image string\n"
     ]
    }
   ],
   "source": [
    "columns_products = \"\"\n",
    "schema = \"\"\n",
    "for i in retail_schemas['products']:\n",
    "    schema = schema +\" \"+ i['column_name'] +\" \"+ i['data_type'] + \",\"\n",
    "    \n",
    "columns_products = schema[:-1]\n",
    "print(columns_products)"
   ]
  },
  {
   "cell_type": "code",
   "execution_count": 116,
   "metadata": {},
   "outputs": [
    {
     "name": "stdout",
     "output_type": "stream",
     "text": [
      "+----------+-------------------+--------------------+-------------------+-------------+--------------------+\n",
      "|product_id|product_category_id|        product_name|product_description|product_price|       product_image|\n",
      "+----------+-------------------+--------------------+-------------------+-------------+--------------------+\n",
      "|         1|                  2|Quest Q64 10 FT. ...|               null|        59.98|http://images.acm...|\n",
      "|         2|                  2|Under Armour Men'...|               null|       129.99|http://images.acm...|\n",
      "|         3|                  2|Under Armour Men'...|               null|        89.99|http://images.acm...|\n",
      "|         4|                  2|Under Armour Men'...|               null|        89.99|http://images.acm...|\n",
      "|         5|                  2|Riddell Youth Rev...|               null|       199.99|http://images.acm...|\n",
      "|         6|                  2|Jordan Men's VI R...|               null|       134.99|http://images.acm...|\n",
      "|         7|                  2|Schutt Youth Recr...|               null|        99.99|http://images.acm...|\n",
      "|         8|                  2|Nike Men's Vapor ...|               null|       129.99|http://images.acm...|\n",
      "|         9|                  2|Nike Adult Vapor ...|               null|         50.0|http://images.acm...|\n",
      "|        10|                  2|Under Armour Men'...|               null|       129.99|http://images.acm...|\n",
      "|        11|                  2|Fitness Gear 300 ...|               null|       209.99|http://images.acm...|\n",
      "|        12|                  2|Under Armour Men'...|               null|       139.99|http://images.acm...|\n",
      "|        13|                  2|Under Armour Men'...|               null|        89.99|http://images.acm...|\n",
      "|        14|                  2|Quik Shade Summit...|               null|       199.99|http://images.acm...|\n",
      "|        15|                  2|Under Armour Kids...|               null|        59.99|http://images.acm...|\n",
      "|        16|                  2|Riddell Youth 360...|               null|       299.99|http://images.acm...|\n",
      "|        17|                  2|Under Armour Men'...|               null|       129.99|http://images.acm...|\n",
      "|        18|                  2|Reebok Men's Full...|               null|        29.97|http://images.acm...|\n",
      "|        19|                  2|Nike Men's Finger...|               null|       124.99|http://images.acm...|\n",
      "|        20|                  2|Under Armour Men'...|               null|       129.99|http://images.acm...|\n",
      "+----------+-------------------+--------------------+-------------------+-------------+--------------------+\n",
      "only showing top 20 rows\n",
      "\n"
     ]
    }
   ],
   "source": [
    "product= spark.read \\\n",
    "            .format('csv') \\\n",
    "            .option('sep',',') \\\n",
    "            .option('header','false') \\\n",
    "            .option('Path','C:/Users/VV232LY/Learning/pyspark/data-master/data-master/retail_db/products/part-00000.csv') \\\n",
    "            .schema(columns_products) \\\n",
    "            .load()\n",
    "\n",
    "product.show()\n"
   ]
  },
  {
   "cell_type": "code",
   "execution_count": 117,
   "metadata": {},
   "outputs": [
    {
     "name": "stdout",
     "output_type": "stream",
     "text": [
      "+-------------------+-------------------+----------+--------------------+--------------------+-------------+\n",
      "|product_category_id|product_description|product_id|       product_image|        product_name|product_price|\n",
      "+-------------------+-------------------+----------+--------------------+--------------------+-------------+\n",
      "|                  2|                   |         1|http://images.acm...|Quest Q64 10 FT. ...|        59.98|\n",
      "|                  2|                   |         2|http://images.acm...|Under Armour Men'...|       129.99|\n",
      "|                  2|                   |         3|http://images.acm...|Under Armour Men'...|        89.99|\n",
      "|                  2|                   |         4|http://images.acm...|Under Armour Men'...|        89.99|\n",
      "|                  2|                   |         5|http://images.acm...|Riddell Youth Rev...|       199.99|\n",
      "|                  2|                   |         6|http://images.acm...|Jordan Men's VI R...|       134.99|\n",
      "|                  2|                   |         7|http://images.acm...|Schutt Youth Recr...|        99.99|\n",
      "|                  2|                   |         8|http://images.acm...|Nike Men's Vapor ...|       129.99|\n",
      "|                  2|                   |         9|http://images.acm...|Nike Adult Vapor ...|         50.0|\n",
      "|                  2|                   |        10|http://images.acm...|Under Armour Men'...|       129.99|\n",
      "|                  2|                   |        11|http://images.acm...|Fitness Gear 300 ...|       209.99|\n",
      "|                  2|                   |        12|http://images.acm...|Under Armour Men'...|       139.99|\n",
      "|                  2|                   |        13|http://images.acm...|Under Armour Men'...|        89.99|\n",
      "|                  2|                   |        14|http://images.acm...|Quik Shade Summit...|       199.99|\n",
      "|                  2|                   |        15|http://images.acm...|Under Armour Kids...|        59.99|\n",
      "|                  2|                   |        16|http://images.acm...|Riddell Youth 360...|       299.99|\n",
      "|                  2|                   |        17|http://images.acm...|Under Armour Men'...|       129.99|\n",
      "|                  2|                   |        18|http://images.acm...|Reebok Men's Full...|        29.97|\n",
      "|                  2|                   |        19|http://images.acm...|Nike Men's Finger...|       124.99|\n",
      "|                  2|                   |        20|http://images.acm...|Under Armour Men'...|       129.99|\n",
      "+-------------------+-------------------+----------+--------------------+--------------------+-------------+\n",
      "only showing top 20 rows\n",
      "\n"
     ]
    }
   ],
   "source": [
    "product_json= spark.read \\\n",
    "            .format('json') \\\n",
    "            .option('sep',',') \\\n",
    "            .option('header','false') \\\n",
    "            .option('Path','C:/Users/VV232LY/Learning/pyspark/data-master/data-master/retail_db_json/products/part-r-00000') \\\n",
    "            .load()\n",
    "\n",
    "product_json.show()\n"
   ]
  },
  {
   "cell_type": "code",
   "execution_count": 120,
   "metadata": {},
   "outputs": [],
   "source": [
    "product_json.createOrReplaceTempView(\"products\")"
   ]
  },
  {
   "cell_type": "code",
   "execution_count": 125,
   "metadata": {},
   "outputs": [
    {
     "name": "stdout",
     "output_type": "stream",
     "text": [
      "<class 'str'>\n",
      "+--------------------+------------------+\n",
      "|        product_name|avg(product_price)|\n",
      "+--------------------+------------------+\n",
      "|Quest Q64 10 FT. ...|59.980000000000004|\n",
      "|Under Armour Men'...|129.98999999999995|\n",
      "|Under Armour Men'...|             89.99|\n",
      "|Riddell Youth Rev...|            199.99|\n",
      "|Jordan Men's VI R...|            134.99|\n",
      "|Schutt Youth Recr...|             99.99|\n",
      "|Nike Men's Vapor ...|            129.99|\n",
      "|Nike Adult Vapor ...|              50.0|\n",
      "|Fitness Gear 300 ...|            209.99|\n",
      "|Under Armour Men'...|            139.99|\n",
      "|Quik Shade Summit...|            199.99|\n",
      "|Under Armour Kids...|             59.99|\n",
      "|Riddell Youth 360...|            299.99|\n",
      "|Reebok Men's Full...|             29.97|\n",
      "|Nike Men's Finger...|124.98999999999998|\n",
      "|Under Armour Kids...|             54.99|\n",
      "|Kijaro Dual Lock ...|29.990000000000002|\n",
      "|Under Armour Men'...|            139.99|\n",
      "|Elevation Trainin...|             79.99|\n",
      "|Nike Men's USA Wh...|              90.0|\n",
      "+--------------------+------------------+\n",
      "only showing top 20 rows\n",
      "\n"
     ]
    }
   ],
   "source": [
    "\n",
    "query = \"\"\"\n",
    "select product_name,avg(product_price) from products\n",
    "group by product_name\n",
    "\"\"\"\n",
    "print(type(query))\n",
    "output = spark.sql(query)\n",
    "\n",
    "output.show()"
   ]
  }
 ],
 "metadata": {
  "kernelspec": {
   "display_name": "Python 3",
   "language": "python",
   "name": "python3"
  },
  "language_info": {
   "codemirror_mode": {
    "name": "ipython",
    "version": 3
   },
   "file_extension": ".py",
   "mimetype": "text/x-python",
   "name": "python",
   "nbconvert_exporter": "python",
   "pygments_lexer": "ipython3",
   "version": "3.8.5"
  }
 },
 "nbformat": 4,
 "nbformat_minor": 4
}
